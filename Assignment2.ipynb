{
 "cells": [
  {
   "cell_type": "code",
   "execution_count": 1,
   "id": "atomic-services",
   "metadata": {},
   "outputs": [],
   "source": [
    "import pandas as pd\n",
    "import numpy as np\n",
    "import matplotlib.pyplot as plt\n",
    "import statsmodels.api as sm\n",
    "from statsmodels.formula.api import ols\n",
    "import seaborn as sns\n"
   ]
  },
  {
   "cell_type": "markdown",
   "id": "31cd2bcd",
   "metadata": {},
   "source": [
    "# Part 1:\n",
    "### A) Find a linear regression model that relates the living area to the selling price. If you did any data cleaning step(s), describe and explain why you did that."
   ]
  },
  {
   "cell_type": "code",
   "execution_count": 2,
   "id": "different-underground",
   "metadata": {},
   "outputs": [],
   "source": [
    "data = pd.read_csv('./Resources/data_assignment2.csv')"
   ]
  },
  {
   "cell_type": "code",
   "execution_count": 3,
   "id": "advisory-receipt",
   "metadata": {},
   "outputs": [
    {
     "data": {
      "text/html": [
       "<div>\n",
       "<style scoped>\n",
       "    .dataframe tbody tr th:only-of-type {\n",
       "        vertical-align: middle;\n",
       "    }\n",
       "\n",
       "    .dataframe tbody tr th {\n",
       "        vertical-align: top;\n",
       "    }\n",
       "\n",
       "    .dataframe thead th {\n",
       "        text-align: right;\n",
       "    }\n",
       "</style>\n",
       "<table border=\"1\" class=\"dataframe\">\n",
       "  <thead>\n",
       "    <tr style=\"text-align: right;\">\n",
       "      <th></th>\n",
       "      <th>ID</th>\n",
       "      <th>Living_area</th>\n",
       "      <th>Rooms</th>\n",
       "      <th>Land_size</th>\n",
       "      <th>Biarea</th>\n",
       "      <th>Age</th>\n",
       "      <th>Selling_price</th>\n",
       "    </tr>\n",
       "  </thead>\n",
       "  <tbody>\n",
       "    <tr>\n",
       "      <th>0</th>\n",
       "      <td>1</td>\n",
       "      <td>104</td>\n",
       "      <td>5.0</td>\n",
       "      <td>271.0</td>\n",
       "      <td>25.0</td>\n",
       "      <td>33</td>\n",
       "      <td>4600000</td>\n",
       "    </tr>\n",
       "    <tr>\n",
       "      <th>1</th>\n",
       "      <td>2</td>\n",
       "      <td>99</td>\n",
       "      <td>5.0</td>\n",
       "      <td>1506.0</td>\n",
       "      <td>6.0</td>\n",
       "      <td>88</td>\n",
       "      <td>4450000</td>\n",
       "    </tr>\n",
       "    <tr>\n",
       "      <th>2</th>\n",
       "      <td>3</td>\n",
       "      <td>133</td>\n",
       "      <td>6.0</td>\n",
       "      <td>486.0</td>\n",
       "      <td>NaN</td>\n",
       "      <td>44</td>\n",
       "      <td>4900000</td>\n",
       "    </tr>\n",
       "  </tbody>\n",
       "</table>\n",
       "</div>"
      ],
      "text/plain": [
       "   ID  Living_area  Rooms  Land_size  Biarea  Age  Selling_price\n",
       "0   1          104    5.0      271.0    25.0   33        4600000\n",
       "1   2           99    5.0     1506.0     6.0   88        4450000\n",
       "2   3          133    6.0      486.0     NaN   44        4900000"
      ]
     },
     "execution_count": 3,
     "metadata": {},
     "output_type": "execute_result"
    }
   ],
   "source": [
    "##First we look at the data to identify if there is a need for data cleaning.\n",
    "#data\n",
    "data.head(3)"
   ]
  },
  {
   "cell_type": "code",
   "execution_count": 4,
   "id": "deluxe-impression",
   "metadata": {},
   "outputs": [
    {
     "name": "stdout",
     "output_type": "stream",
     "text": [
      "Min biarea: 6.0\n"
     ]
    }
   ],
   "source": [
    "## We notice some NaN values, however, if we drop them immediatley, we risk loosing data which we can use.\n",
    "## First we identify which variables we want to use to fit the regression, as price is not only dependent on the living area.\n",
    "## Due to: \n",
    "print('Min biarea:',data['Biarea'].min())\n",
    "## We can also assume that NaN values represent plots where there is no additonal area and can thus replace NaN with 0.\n",
    "data['Biarea'] = data['Biarea'].fillna(0)\n",
    "## Now we only have one entry with a NaN value(row 18), and assuming all relevant property has rooms we should drop this entry.\n",
    "data =data.dropna()\n",
    "## We can add landsize and Biarea togehter as we assume that in the event of a sale essentially contribute equally to the selling-price.\n",
    "data['Land_area_total'] = 0\n",
    "data['Land_area_total'] = data['Land_size'] + data['Biarea']\n",
    "## There does not seem to be any extreme outliers so we will not bother windsorizing the data.\n"
   ]
  },
  {
   "cell_type": "code",
   "execution_count": 5,
   "id": "2d439557",
   "metadata": {},
   "outputs": [
    {
     "name": "stdout",
     "output_type": "stream",
     "text": [
      "First Iteration:           variable        VIF\n",
      "0               ID   4.358253\n",
      "1      Living_area  62.951614\n",
      "2            Rooms  67.735694\n",
      "3        Land_size        inf\n",
      "4           Biarea        inf\n",
      "5              Age   4.597778\n",
      "6    Selling_price  28.574812\n",
      "7  Land_area_total        inf\n",
      "Second Iteration:           variable        VIF\n",
      "0      Living_area  47.764172\n",
      "1            Rooms  50.566761\n",
      "2              Age   4.063140\n",
      "3  Land_area_total   5.159818\n",
      "Third Iteration:           variable       VIF\n",
      "0      Living_area  3.392085\n",
      "1              Age  3.433295\n",
      "2  Land_area_total  5.086457\n"
     ]
    },
    {
     "name": "stderr",
     "output_type": "stream",
     "text": [
      "c:\\Users\\Johan Birgersson\\anaconda3\\lib\\site-packages\\statsmodels\\stats\\outliers_influence.py:195: RuntimeWarning: divide by zero encountered in double_scalars\n",
      "  vif = 1. / (1. - r_squared_i)\n"
     ]
    }
   ],
   "source": [
    "## To follow good statistical practice we will however check variables for multicolliniarity using the VIF method.\n",
    "from statsmodels.stats.outliers_influence import variance_inflation_factor\n",
    "def vif(data):\n",
    "    vif_data= pd.DataFrame()\n",
    "    vif_data[\"variable\"] = data.columns\n",
    "    vif_data[\"VIF\"] = [variance_inflation_factor(data.values, i) for i in range(len(data.columns))]\n",
    "    return vif_data\n",
    "\n",
    "print('First Iteration:',vif(data)) ## Since we have essentially put two variables together in Land_area_total there is multicollinearity. Remove those along with other extreme variables.\n",
    "#A VIF above 10 indicates multicolliniarity, VIF under five is acceptable. We remove from highest order, starting with the dependent variable and the index.\n",
    "vif_data = data.drop(columns=['ID','Selling_price','Biarea','Land_size'])\n",
    "print('Second Iteration:',vif(vif_data))\n",
    "#By the same logic, number of rooms and livingarea should in principle tell us the same information about the sellingprice, we remove the rooms.\n",
    "vif_data = vif_data.drop(columns=['Rooms'])\n",
    "print('Third Iteration:',vif(vif_data))\n",
    "##As we see, we can not use any other variable than age, since there is multicollinearity, but for the sake of the assignment we continue with these variables.\n",
    "\n",
    "            "
   ]
  },
  {
   "cell_type": "code",
   "execution_count": 6,
   "id": "preliminary-profit",
   "metadata": {},
   "outputs": [
    {
     "data": {
      "text/plain": [
       "<AxesSubplot:xlabel='Living_area', ylabel='Selling_price'>"
      ]
     },
     "execution_count": 6,
     "metadata": {},
     "output_type": "execute_result"
    },
    {
     "data": {
      "image/png": "[encoded data removed]",
      "text/plain": [
       "<Figure size 432x288 with 1 Axes>"
      ]
     },
     "metadata": {
      "needs_background": "light"
     },
     "output_type": "display_data"
    }
   ],
   "source": [
    "## Lets have a quick look at a quick regression plot, we find that there indeed seems to be a positive correlation between living area and sellingprice.\n",
    "sns.regplot(data=data,x='Living_area',y='Selling_price')"
   ]
  },
  {
   "cell_type": "code",
   "execution_count": 7,
   "id": "social-wales",
   "metadata": {},
   "outputs": [
    {
     "name": "stdout",
     "output_type": "stream",
     "text": [
      "                            OLS Regression Results                            \n",
      "==============================================================================\n",
      "Dep. Variable:          Selling_price   R-squared:                       0.375\n",
      "Model:                            OLS   Adj. R-squared:                  0.363\n",
      "Method:                 Least Squares   F-statistic:                     30.66\n",
      "Date:                Tue, 15 Nov 2022   Prob (F-statistic):           1.08e-06\n",
      "Time:                        13:46:19   Log-Likelihood:                -801.31\n",
      "No. Observations:                  53   AIC:                             1607.\n",
      "Df Residuals:                      51   BIC:                             1611.\n",
      "Df Model:                           1                                         \n",
      "Covariance Type:            nonrobust                                         \n",
      "===============================================================================\n",
      "                  coef    std err          t      P>|t|      [0.025      0.975]\n",
      "-------------------------------------------------------------------------------\n",
      "Intercept     2.22e+06    4.9e+05      4.532      0.000    1.24e+06     3.2e+06\n",
      "Living_area  2.015e+04   3639.212      5.537      0.000    1.28e+04    2.75e+04\n",
      "==============================================================================\n",
      "Omnibus:                       14.390   Durbin-Watson:                   1.904\n",
      "Prob(Omnibus):                  0.001   Jarque-Bera (JB):               18.541\n",
      "Skew:                          -0.974   Prob(JB):                     9.42e-05\n",
      "Kurtosis:                       5.146   Cond. No.                         528.\n",
      "==============================================================================\n",
      "\n",
      "Notes:\n",
      "[1] Standard Errors assume that the covariance matrix of the errors is correctly specified.\n"
     ]
    }
   ],
   "source": [
    "## Running an initial OLS on these we find:\n",
    "import statsmodels.formula.api as sm\n",
    "result = sm.ols(formula=\"Selling_price ~ Living_area\", data=data).fit()\n",
    "#result.params\n",
    "print(result.summary())"
   ]
  },
  {
   "cell_type": "code",
   "execution_count": 8,
   "id": "psychological-salad",
   "metadata": {},
   "outputs": [
    {
     "name": "stdout",
     "output_type": "stream",
     "text": [
      "Intercept:  2219933.4687544852\n",
      "Living_area:  20151.279523921763\n"
     ]
    }
   ],
   "source": [
    "## Highly significant coefficents (p<0.01), \n",
    "## Furhtermore, it seems to be a great explanatory variable as \n",
    "## it produced a high R-squared (ie. explaining a lot of the variation of sellingprice).\n",
    "## Lets look at the coeffiients:\n",
    "print('Intercept: ', result.params[0])\n",
    "print('Living_area: ',result.params[1])"
   ]
  },
  {
   "cell_type": "markdown",
   "id": "6ae2b9d3",
   "metadata": {},
   "source": [
    "### B) What are the values of the slope and intercept of the regression line?"
   ]
  },
  {
   "cell_type": "code",
   "execution_count": 9,
   "id": "weekly-round",
   "metadata": {},
   "outputs": [],
   "source": [
    "## The intercept: The starting price in the sample, if the living area was zero, the sellingprice would be 2219933(SEK) According to this model.\n",
    "## in reality this is ofcourse not the case, but given this one variable this is the models interpretation.\n",
    "## Living_area: Each additional area of living space contributes 20151 (SEK) to the sellingprice. Ie a positive correlation. (Keep in mind there is multicollinearity)"
   ]
  },
  {
   "cell_type": "code",
   "execution_count": 10,
   "id": "peaceful-halifax",
   "metadata": {},
   "outputs": [
    {
     "name": "stdout",
     "output_type": "stream",
     "text": [
      "Index(['ID', 'Living_area', 'Rooms', 'Land_size', 'Biarea', 'Age',\n",
      "       'Selling_price', 'Land_area_total'],\n",
      "      dtype='object')\n",
      "                            OLS Regression Results                            \n",
      "==============================================================================\n",
      "Dep. Variable:          Selling_price   R-squared:                       0.524\n",
      "Model:                            OLS   Adj. R-squared:                  0.505\n",
      "Method:                 Least Squares   F-statistic:                     27.55\n",
      "Date:                Tue, 15 Nov 2022   Prob (F-statistic):           8.60e-09\n",
      "Time:                        13:46:21   Log-Likelihood:                -794.10\n",
      "No. Observations:                  53   AIC:                             1594.\n",
      "Df Residuals:                      50   BIC:                             1600.\n",
      "Df Model:                           2                                         \n",
      "Covariance Type:            nonrobust                                         \n",
      "===============================================================================\n",
      "                  coef    std err          t      P>|t|      [0.025      0.975]\n",
      "-------------------------------------------------------------------------------\n",
      "Intercept    3.643e+06   5.62e+05      6.481      0.000    2.51e+06    4.77e+06\n",
      "Living_area  1.461e+04   3500.554      4.174      0.000    7580.172    2.16e+04\n",
      "Age         -1.716e+04   4339.867     -3.954      0.000   -2.59e+04   -8443.372\n",
      "==============================================================================\n",
      "Omnibus:                        4.662   Durbin-Watson:                   2.151\n",
      "Prob(Omnibus):                  0.097   Jarque-Bera (JB):                5.535\n",
      "Skew:                          -0.089   Prob(JB):                       0.0628\n",
      "Kurtosis:                       4.573   Cond. No.                         715.\n",
      "==============================================================================\n",
      "\n",
      "Notes:\n",
      "[1] Standard Errors assume that the covariance matrix of the errors is correctly specified.\n"
     ]
    }
   ],
   "source": [
    "print(data.columns)\n",
    "result2 = sm.ols(formula=\"Selling_price ~ Living_area + Age\", data=data).fit()\n",
    "## When we add the age, variable we find greater R-squared and a highly significant negative correlation with the properties age and its price.\n",
    "print(result2.summary())"
   ]
  },
  {
   "cell_type": "code",
   "execution_count": 11,
   "id": "legal-coordinator",
   "metadata": {},
   "outputs": [
    {
     "name": "stdout",
     "output_type": "stream",
     "text": [
      "Intercept:  3643249.9367851815\n",
      "Living_area:  14611.240988414904\n",
      "age:  -17160.252184278757\n"
     ]
    }
   ],
   "source": [
    "print('Intercept: ', result2.params[0])\n",
    "print('Living_area: ', result2.params[1])\n",
    "print('age: ', result2.params[2])\n",
    "\n",
    "# Adding age as a factor, we get closer to explaining the selling price, indicated by the increase in r-squared. \n",
    "# We notice that the contribution of the living area could previously have been over-estimated since it decreased with a significant amount with the introduction of anohter variable.\n",
    "# As we have not done any further measures to fit the model we will not rely on the numbers. \n",
    "# We can however reject the null hypothesis and confirm that living area has a positive effect on selling price and age of the house has a negative effect on selling price in our sample.\n"
   ]
  },
  {
   "cell_type": "markdown",
   "id": "c9926a13",
   "metadata": {},
   "source": [
    "### C) Use this model to predict the selling prices of houses which have living area 100 m2, 150 m2 and 200 m2."
   ]
  },
  {
   "cell_type": "code",
   "execution_count": 12,
   "id": "electronic-northern",
   "metadata": {},
   "outputs": [
    {
     "name": "stdout",
     "output_type": "stream",
     "text": [
      "Intercept:  2219933.4687544852\n",
      "Living_area:  20151.279523921763\n"
     ]
    }
   ],
   "source": [
    "## We use the first model for simplicity sake, not to incorporate the age variable.\n",
    "print('Intercept: ', result.params[0])\n",
    "print('Living_area: ',result.params[1])"
   ]
  },
  {
   "cell_type": "code",
   "execution_count": 13,
   "id": "comfortable-kruger",
   "metadata": {},
   "outputs": [],
   "source": [
    "def predictedSellingprice(livingarea,model,rounded):\n",
    "    return round((model.params[0]+(livingarea*model.params[1]))/1000000,rounded)"
   ]
  },
  {
   "cell_type": "code",
   "execution_count": 14,
   "id": "academic-council",
   "metadata": {},
   "outputs": [
    {
     "data": {
      "text/html": [
       "<div>\n",
       "<style scoped>\n",
       "    .dataframe tbody tr th:only-of-type {\n",
       "        vertical-align: middle;\n",
       "    }\n",
       "\n",
       "    .dataframe tbody tr th {\n",
       "        vertical-align: top;\n",
       "    }\n",
       "\n",
       "    .dataframe thead th {\n",
       "        text-align: right;\n",
       "    }\n",
       "</style>\n",
       "<table border=\"1\" class=\"dataframe\">\n",
       "  <thead>\n",
       "    <tr style=\"text-align: right;\">\n",
       "      <th></th>\n",
       "      <th>Predicted_price</th>\n",
       "    </tr>\n",
       "    <tr>\n",
       "      <th>M2</th>\n",
       "      <th></th>\n",
       "    </tr>\n",
       "  </thead>\n",
       "  <tbody>\n",
       "    <tr>\n",
       "      <th>100</th>\n",
       "      <td>4.2351 MSEK</td>\n",
       "    </tr>\n",
       "    <tr>\n",
       "      <th>150</th>\n",
       "      <td>5.2426 MSEK</td>\n",
       "    </tr>\n",
       "    <tr>\n",
       "      <th>200</th>\n",
       "      <td>6.2502 MSEK</td>\n",
       "    </tr>\n",
       "  </tbody>\n",
       "</table>\n",
       "</div>"
      ],
      "text/plain": [
       "    Predicted_price\n",
       "M2                 \n",
       "100     4.2351 MSEK\n",
       "150     5.2426 MSEK\n",
       "200     6.2502 MSEK"
      ]
     },
     "execution_count": 14,
     "metadata": {},
     "output_type": "execute_result"
    }
   ],
   "source": [
    "p_sellingprice = pd.DataFrame()\n",
    "p_sellingprice['M2'] = ['100','150','200']\n",
    "p_sellingprice['Predicted_price'] =[str(predictedSellingprice(100,result,4)) + ' MSEK', str(predictedSellingprice(150,result,4)) + ' MSEK', str(predictedSellingprice(200,result,4))+ ' MSEK']\n",
    "p_sellingprice.index = p_sellingprice['M2']\n",
    "p_sellingprice = p_sellingprice.drop(columns=['M2'])\n",
    "p_sellingprice\n"
   ]
  },
  {
   "cell_type": "markdown",
   "id": "db2a49f3",
   "metadata": {},
   "source": [
    "### D) Draw a residual plot"
   ]
  },
  {
   "cell_type": "code",
   "execution_count": 35,
   "id": "28097259",
   "metadata": {},
   "outputs": [
    {
     "data": {
      "text/plain": [
       "<AxesSubplot:xlabel='Age', ylabel='Selling_price'>"
      ]
     },
     "execution_count": 35,
     "metadata": {},
     "output_type": "execute_result"
    },
    {
     "data": {
      "image/png": "[encoded data removed]",
      "text/plain": [
       "<Figure size 1008x576 with 1 Axes>"
      ]
     },
     "metadata": {
      "needs_background": "light"
     },
     "output_type": "display_data"
    },
    {
     "data": {
      "image/png": "[encoded data removed]",
      "text/plain": [
       "<Figure size 1008x576 with 1 Axes>"
      ]
     },
     "metadata": {
      "needs_background": "light"
     },
     "output_type": "display_data"
    }
   ],
   "source": [
    "fig = plt.figure(figsize=(14, 8))\n",
    "sns.residplot(data=data, x=\"Living_area\", y=\"Selling_price\", lowess=True, line_kws=dict(color=\"r\"))\n",
    "fig = plt.figure(figsize=(14, 8))\n",
    "sns.residplot(data=data, x=\"Age\", y=\"Selling_price\", lowess=True, line_kws=dict(color=\"r\"))\n"
   ]
  },
  {
   "cell_type": "code",
   "execution_count": 16,
   "id": "aecf1626",
   "metadata": {},
   "outputs": [
    {
     "ename": "AttributeError",
     "evalue": "module 'statsmodels.formula.api' has no attribute 'graphics'",
     "output_type": "error",
     "traceback": [
      "\u001b[1;31m---------------------------------------------------------------------------\u001b[0m",
      "\u001b[1;31mAttributeError\u001b[0m                            Traceback (most recent call last)",
      "\u001b[1;32md:\\PythonGit\\DAT405\\Assignment2.ipynb Cell 20\u001b[0m in \u001b[0;36m<cell line: 5>\u001b[1;34m()\u001b[0m\n\u001b[0;32m      <a href='vscode-notebook-cell:/d%3A/PythonGit/DAT405/Assignment2.ipynb#X25sZmlsZQ%3D%3D?line=1'>2</a>\u001b[0m fig \u001b[39m=\u001b[39m plt\u001b[39m.\u001b[39mfigure(figsize\u001b[39m=\u001b[39m(\u001b[39m14\u001b[39m, \u001b[39m8\u001b[39m))\n\u001b[0;32m      <a href='vscode-notebook-cell:/d%3A/PythonGit/DAT405/Assignment2.ipynb#X25sZmlsZQ%3D%3D?line=3'>4</a>\u001b[0m \u001b[39m# creating regression plots\u001b[39;00m\n\u001b[1;32m----> <a href='vscode-notebook-cell:/d%3A/PythonGit/DAT405/Assignment2.ipynb#X25sZmlsZQ%3D%3D?line=4'>5</a>\u001b[0m fig \u001b[39m=\u001b[39m sm\u001b[39m.\u001b[39;49mgraphics\u001b[39m.\u001b[39mplot_regress_exog(result2,\u001b[39m'\u001b[39m\u001b[39mLiving_area\u001b[39m\u001b[39m'\u001b[39m,fig\u001b[39m=\u001b[39mfig)\n",
      "\u001b[1;31mAttributeError\u001b[0m: module 'statsmodels.formula.api' has no attribute 'graphics'"
     ]
    },
    {
     "data": {
      "text/plain": [
       "<Figure size 1008x576 with 0 Axes>"
      ]
     },
     "metadata": {},
     "output_type": "display_data"
    }
   ],
   "source": [
    "##Shit was beutiful, decided to shit itself and stop working. I blame statsmodels\n",
    "\n",
    "#fig = plt.figure(figsize=(14, 8))\n",
    "#fig = sm.graphics.plot_regress_exog(result,'Living_area',fig=fig)\n",
    "\n",
    "#fig = plt.figure(figsize=(14, 8))\n",
    "#fig = sm.graphics.plot_regress_exog(result2,'Living_area',fig=fig)"
   ]
  },
  {
   "cell_type": "code",
   "execution_count": null,
   "id": "ce4e5316",
   "metadata": {},
   "outputs": [],
   "source": [
    "# In the first residual plot we can se a slight curvature, for the data on living area. The data shows tendencies of being heteroscedastic. "
   ]
  },
  {
   "cell_type": "markdown",
   "id": "37928ada",
   "metadata": {},
   "source": [
    "### E) Discuss the results, and how the model could be improved\n",
    "As we see from the top right, in both models, there is no dicernable pattern, there are however some outliers which we could have windsorized or utilized robust regression to handle, but we decided not to earlier as they are not extreme and will not affect much. In the bottom right, we notice the residuals are smaller when in relation to the other variable age. "
   ]
  },
  {
   "cell_type": "markdown",
   "id": "1ac867c6",
   "metadata": {},
   "source": [
    "## Part 2:\n",
    "#### A) Use a confusion matrix to evaluate the use of logistic regression to classify the iris data set:\n",
    "\n",
    "The iris dataset contains data on petal and sepal size, these make up observations of three types of flowers, logistic regression should, given a new entry of data be able to predict which of the three flower categories it falls into."
   ]
  },
  {
   "cell_type": "code",
   "execution_count": 17,
   "id": "334a6594",
   "metadata": {},
   "outputs": [],
   "source": [
    "from sklearn.datasets import load_iris\n",
    "from sklearn.linear_model import LogisticRegression\n",
    "from sklearn.metrics import confusion_matrix\n",
    "from sklearn.model_selection import train_test_split\n",
    "from sklearn.preprocessing import StandardScaler\n",
    "from sklearn.neighbors import KNeighborsClassifier"
   ]
  },
  {
   "cell_type": "code",
   "execution_count": 18,
   "id": "d5a287bb",
   "metadata": {},
   "outputs": [
    {
     "data": {
      "image/png": "[encoded data removed]",
      "text/plain": [
       "<Figure size 432x288 with 2 Axes>"
      ]
     },
     "metadata": {
      "needs_background": "light"
     },
     "output_type": "display_data"
    }
   ],
   "source": [
    "x_iris, y_iris = load_iris(return_X_y=True)\n",
    "\n",
    "log_reg = LogisticRegression(max_iter=800).fit(x_iris, y_iris)\n",
    "\n",
    "# Plot confusion matrix as  heatmap \n",
    "def plotcm(data):\n",
    "    ax = plt.axes()\n",
    "    df_cm = data\n",
    "    sns.heatmap(df_cm, annot=True, annot_kws={\"size\": 30}, fmt='d',cmap=\"Blues\", ax = ax )\n",
    "    ax.set_title('Confusion Matrix')\n",
    "    plt.show()\n",
    "\n",
    "plotcm(confusion_matrix(y_iris, log_reg.predict(x_iris)))\n",
    "\n",
    "## With the first "
   ]
  },
  {
   "cell_type": "markdown",
   "id": "d4930b1c",
   "metadata": {},
   "source": [
    "### B) Use k-nearest neighbours to classify the iris data set with some different\n",
    "### values for k, and with uniform and distance-based weights. What will happen\n",
    "### when k grows larger for the different cases? Why?"
   ]
  },
  {
   "cell_type": "markdown",
   "id": "2bcfbc13",
   "metadata": {},
   "source": [
    "Increased K reduces noise, as we check against more neighbors. High enough and we can make generalized assumptions. As such effects will become increasingly robust as we increase K, we have two different modes for the uniform and distance. Distance gives more weight to proximate data, uniform, intuitivley gives equals weight. We find the best fit for our data by experimenting:"
   ]
  },
  {
   "cell_type": "code",
   "execution_count": 19,
   "id": "2429beb3",
   "metadata": {},
   "outputs": [
    {
     "name": "stdout",
     "output_type": "stream",
     "text": [
      "K:1 weight:uniform score: 1.0\n",
      "K:1 weight:distance score: 1.0\n",
      "K:2 weight:uniform score: 0.98\n",
      "K:2 weight:distance score: 1.0\n",
      "K:5 weight:uniform score: 0.9666666666666667\n",
      "K:5 weight:distance score: 1.0\n",
      "K:7 weight:uniform score: 0.9733333333333334\n",
      "K:7 weight:distance score: 1.0\n",
      "K:9 weight:uniform score: 0.98\n",
      "K:9 weight:distance score: 1.0\n",
      "K:13 weight:uniform score: 0.98\n",
      "K:13 weight:distance score: 1.0\n",
      "K:17 weight:uniform score: 0.98\n",
      "K:17 weight:distance score: 1.0\n",
      "K:23 weight:uniform score: 0.98\n",
      "K:23 weight:distance score: 1.0\n",
      "K:50 weight:uniform score: 0.94\n",
      "K:50 weight:distance score: 1.0\n"
     ]
    }
   ],
   "source": [
    "k_neighbors = [1, 2, 5, 7, 9, 13, 17, 23,50]\n",
    "weights = [\"uniform\", \"distance\"]\n",
    "\n",
    "for k in k_neighbors:\n",
    "    for w in weights:\n",
    "        knn_reg = KNeighborsClassifier(k, weights=w).fit(x_iris, y_iris) \n",
    "        print('K:'+str(k)+' weight:' + w +' score: '+ str(knn_reg.score(x_iris, y_iris)))\n",
    "\n",
    "\n"
   ]
  },
  {
   "cell_type": "markdown",
   "id": "af8e4033",
   "metadata": {},
   "source": [
    "### C) Compare the classification models for the iris data set that are generated by\n",
    "### k-nearest neighbours (for the different settings from question 3) and by\n",
    "### logistic regression. Calculate confusion matrices for these models and discuss\n",
    "### the performance of the various models."
   ]
  },
  {
   "cell_type": "code",
   "execution_count": 20,
   "id": "34f45d41",
   "metadata": {},
   "outputs": [
    {
     "data": {
      "image/png": "[encoded data removed]",
      "text/plain": [
       "<Figure size 432x288 with 2 Axes>"
      ]
     },
     "metadata": {
      "needs_background": "light"
     },
     "output_type": "display_data"
    }
   ],
   "source": [
    "# Confusion matrix for K-nearest-neighbors\n",
    "# We select our highest K value along with our continously best performing weight method distance.\n",
    "# We find that in this case, the k-neighbors model did better in classifying. That being said, this all relates to our data. If our sample looked different we might have had different results. We need to test our model on another sample.\n",
    "knn_reg = KNeighborsClassifier(50, weights=\"distance\").fit(x_iris, y_iris)\n",
    "\n",
    "plotcm(confusion_matrix(y_iris, knn_reg.predict(x_iris)))\n",
    "\n",
    "\n"
   ]
  },
  {
   "cell_type": "code",
   "execution_count": 21,
   "id": "fbed1474",
   "metadata": {},
   "outputs": [
    {
     "data": {
      "image/png": "[encoded data removed]",
      "text/plain": [
       "<Figure size 432x288 with 2 Axes>"
      ]
     },
     "metadata": {
      "needs_background": "light"
     },
     "output_type": "display_data"
    }
   ],
   "source": [
    "plotcm(confusion_matrix(y_iris, log_reg.predict(x_iris)))"
   ]
  },
  {
   "cell_type": "markdown",
   "id": "37276a21",
   "metadata": {},
   "source": [
    "## Part 3:\n",
    "\n",
    "We want to be able to generalize our results, that is motivate their robustness in the event of a different set of data, we also need to assure that we are not biased in our data. \n",
    "When training models to improve their fit and accuracy. A validation set is used as a baseline of the accuracy of the prediction from the trained dataset.\n"
   ]
  },
  {
   "cell_type": "markdown",
   "id": "cb7531a1",
   "metadata": {},
   "source": []
  },
  {
   "cell_type": "markdown",
   "id": "44027024",
   "metadata": {},
   "source": []
  },
  {
   "cell_type": "markdown",
   "id": "b32c99e2",
   "metadata": {},
   "source": []
  }
 ],
 "metadata": {
  "kernelspec": {
   "display_name": "Python 3.9.12 ('base')",
   "language": "python",
   "name": "python3"
  },
  "language_info": {
   "codemirror_mode": {
    "name": "ipython",
    "version": 3
   },
   "file_extension": ".py",
   "mimetype": "text/x-python",
   "name": "python",
   "nbconvert_exporter": "python",
   "pygments_lexer": "ipython3",
   "version": "3.9.12"
  },
  "vscode": {
   "interpreter": {
    "hash": "c9305d7bf1ef80e421818d604bdde9aa23cd61836c66dcb7f1e974c6a5a319e4"
   }
  }
 },
 "nbformat": 4,
 "nbformat_minor": 5
}
